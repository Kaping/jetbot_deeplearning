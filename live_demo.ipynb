{
  "nbformat": 4,
  "nbformat_minor": 0,
  "metadata": {
    "kernelspec": {
      "display_name": "Python 3",
      "language": "python",
      "name": "python3"
    },
    "language_info": {
      "codemirror_mode": {
        "name": "ipython",
        "version": 3
      },
      "file_extension": ".py",
      "mimetype": "text/x-python",
      "name": "python",
      "nbconvert_exporter": "python",
      "pygments_lexer": "ipython3",
      "version": "3.6.9"
    },
    "colab": {
      "name": "live_demo.ipynb",
      "provenance": [],
      "include_colab_link": true
    }
  },
  "cells": [
    {
      "cell_type": "markdown",
      "metadata": {
        "id": "view-in-github",
        "colab_type": "text"
      },
      "source": [
        "<a href=\"https://colab.research.google.com/github/Kaping/jetbot_deeplearning/blob/main/live_demo.ipynb\" target=\"_parent\"><img src=\"https://colab.research.google.com/assets/colab-badge.svg\" alt=\"Open In Colab\"/></a>"
      ]
    },
    {
      "cell_type": "markdown",
      "metadata": {
        "id": "9BMLfk6qOrym"
      },
      "source": [
        "# Road Following - Live demo"
      ]
    },
    {
      "cell_type": "markdown",
      "metadata": {
        "id": "sgsqycKvOryw"
      },
      "source": [
        "In this notebook, we will use model we trained to move jetBot smoothly on track. "
      ]
    },
    {
      "cell_type": "markdown",
      "metadata": {
        "id": "x44d4ZuXOryx"
      },
      "source": [
        "### Load Trained Model"
      ]
    },
    {
      "cell_type": "markdown",
      "metadata": {
        "id": "Of9IrPHPOryy"
      },
      "source": [
        "We will assume that you have already downloaded ``best_steering_model_xy.pth`` to work station as instructed in \"train_model.ipynb\" notebook. Now, you should upload model file to JetBot in to this notebooks's directory. Once that's finished there should be a file named ``best_steering_model_xy.pth`` in this notebook's directory."
      ]
    },
    {
      "cell_type": "markdown",
      "metadata": {
        "id": "AA3YhlxJOryy"
      },
      "source": [
        "> Please make sure the file has uploaded fully before calling the next cell"
      ]
    },
    {
      "cell_type": "markdown",
      "metadata": {
        "id": "LKpw7ciPOryz"
      },
      "source": [
        "Execute the code below to initialize the PyTorch model. This should look very familiar from the training notebook."
      ]
    },
    {
      "cell_type": "code",
      "metadata": {
        "id": "ab7yxPMqOryz"
      },
      "source": [
        "import torchvision\n",
        "import torch\n",
        "\n",
        "model = torchvision.models.resnet18(pretrained=False)\n",
        "model.fc = torch.nn.Linear(512, 2)"
      ],
      "execution_count": null,
      "outputs": []
    },
    {
      "cell_type": "markdown",
      "metadata": {
        "id": "ZQh1QyiCOry0"
      },
      "source": [
        "Next, load the trained weights from the ``best_steering_model_xy.pth`` file that you uploaded."
      ]
    },
    {
      "cell_type": "code",
      "metadata": {
        "id": "uNU-D6K9Ory1",
        "outputId": "67b35f04-77c3-4f95-83b6-bc96268dc9b1"
      },
      "source": [
        "model.load_state_dict(torch.load('best_steering_model_xy.pth'))"
      ],
      "execution_count": null,
      "outputs": [
        {
          "output_type": "execute_result",
          "data": {
            "text/plain": [
              "<All keys matched successfully>"
            ]
          },
          "metadata": {
            "tags": []
          },
          "execution_count": 3
        }
      ]
    },
    {
      "cell_type": "markdown",
      "metadata": {
        "id": "5JPI8qU5Ory3"
      },
      "source": [
        "Currently, the model weights are located on the CPU memory execute the code below to transfer to the GPU device."
      ]
    },
    {
      "cell_type": "code",
      "metadata": {
        "id": "Zlht5MvAOry3"
      },
      "source": [
        "device = torch.device('cuda')\n",
        "model = model.to(device)\n",
        "model = model.eval().half()"
      ],
      "execution_count": null,
      "outputs": []
    },
    {
      "cell_type": "markdown",
      "metadata": {
        "id": "CUY3Mx--Ory4"
      },
      "source": [
        "### Creating the Pre-Processing Function"
      ]
    },
    {
      "cell_type": "markdown",
      "metadata": {
        "id": "jps7JD4AOry4"
      },
      "source": [
        "We have now loaded our model, but there's a slight issue. The format that we trained our model doesnt exactly match the format of the camera. To do that, we need to do some preprocessing. This involves the following steps:\n",
        "\n",
        "1. Convert from HWC layout to CHW layout\n",
        "2. Normalize using same parameters as we did during training (our camera provides values in [0, 255] range and training loaded images in [0, 1] range so we need to scale by 255.0\n",
        "3. Transfer the data from CPU memory to GPU memory\n",
        "4. Add a batch dimension"
      ]
    },
    {
      "cell_type": "code",
      "metadata": {
        "id": "M-Imt7ODOry4"
      },
      "source": [
        "import torchvision.transforms as transforms\n",
        "import torch.nn.functional as F\n",
        "import cv2\n",
        "import PIL.Image\n",
        "import numpy as np\n",
        "\n",
        "mean = torch.Tensor([0.485, 0.456, 0.406]).cuda().half()\n",
        "std = torch.Tensor([0.229, 0.224, 0.225]).cuda().half()\n",
        "\n",
        "def preprocess(image):\n",
        "    image = PIL.Image.fromarray(image)\n",
        "    image = transforms.functional.to_tensor(image).to(device).half()\n",
        "    image.sub_(mean[:, None, None]).div_(std[:, None, None])\n",
        "    return image[None, ...]"
      ],
      "execution_count": null,
      "outputs": []
    },
    {
      "cell_type": "markdown",
      "metadata": {
        "id": "ifCMXl59Ory5"
      },
      "source": [
        "Awesome! We've now defined our pre-processing function which can convert images from the camera format to the neural network input format.\n",
        "\n",
        "Now, let's start and display our camera. You should be pretty familiar with this by now. "
      ]
    },
    {
      "cell_type": "code",
      "metadata": {
        "colab": {
          "referenced_widgets": [
            "bcf1cd332d374014948db1def4ea33a4"
          ]
        },
        "id": "EU67vqbNOry5",
        "outputId": "c938096a-1b4c-4388-c4cd-7668e40ef448"
      },
      "source": [
        "from IPython.display import display\n",
        "import ipywidgets\n",
        "import traitlets\n",
        "from jetbot import Camera, bgr8_to_jpeg\n",
        "\n",
        "camera = Camera()\n",
        "\n",
        "image_widget = ipywidgets.Image()\n",
        "\n",
        "traitlets.dlink((camera, 'value'), (image_widget, 'value'), transform=bgr8_to_jpeg)\n",
        "\n",
        "display(image_widget)"
      ],
      "execution_count": null,
      "outputs": [
        {
          "output_type": "display_data",
          "data": {
            "application/vnd.jupyter.widget-view+json": {
              "model_id": "bcf1cd332d374014948db1def4ea33a4",
              "version_major": 2,
              "version_minor": 0
            },
            "text/plain": [
              "Image(value=b'\\xff\\xd8\\xff\\xe0\\x00\\x10JFIF\\x00\\x01\\x01\\x00\\x00\\x01\\x00\\x01\\x00\\x00\\xff\\xdb\\x00C\\x00\\x02\\x01\\x0…"
            ]
          },
          "metadata": {
            "tags": []
          }
        }
      ]
    },
    {
      "cell_type": "markdown",
      "metadata": {
        "id": "3gui1kffOry6"
      },
      "source": [
        "We'll also create our robot instance which we'll need to drive the motors."
      ]
    },
    {
      "cell_type": "code",
      "metadata": {
        "id": "Tg0K6WB7Ory6"
      },
      "source": [
        "from jetbot import Robot\n",
        "\n",
        "robot = Robot()"
      ],
      "execution_count": null,
      "outputs": []
    },
    {
      "cell_type": "markdown",
      "metadata": {
        "id": "7sASrG3XOry7"
      },
      "source": [
        "Now, we will define sliders to control JetBot\n",
        "> Note: We have initialize the slider values for best known configurations, however these might not work for your dataset, therefore please increase or decrease the sliders according to your setup and environment\n",
        "\n",
        "1. Speed Control (speed_gain_slider): To start your JetBot increase ``speed_gain_slider`` \n",
        "2. Steering Gain Control (steering_gain_sloder): If you see JetBot is woblling, you need to reduce ``steering_gain_slider`` till it is smooth\n",
        "3. Steering Bias control (steering_bias_slider): If you see JetBot is biased towards extreme right or extreme left side of the track, you should control this slider till JetBot start following line or track in the center.  This accounts for motor biases as well as camera offsets\n",
        "\n",
        "> Note: You should play around above mentioned sliders with lower speed to get smooth JetBot road following behavior."
      ]
    },
    {
      "cell_type": "markdown",
      "metadata": {
        "id": "djIgJ16tOry7"
      },
      "source": [
        "\"\"\"\n",
        "speed_gain_slider = ipywidgets.FloatSlider(min=0.25, max=1.0, step=0.01, description='speed gain')\n",
        "steering_gain_slider = ipywidgets.FloatSlider(min=0.0, max=1.0, step=0.01, value=0.05, description='steering gain')\n",
        "steering_dgain_slider = ipywidgets.FloatSlider(min=0.0, max=0.5, step=0.001, value=0.0, description='steering kd')\n",
        "steering_bias_slider = ipywidgets.FloatSlider(min=-0.3, max=0.3, step=0.01, value=0.0, description='steering bias')\n",
        "\"\"\"\n",
        "speed_gain_slider = ipywidgets.FloatSlider(min=0.25, max=1.0, step=0.01, description='speed gain')\n",
        "steering_gain_slider = ipywidgets.FloatSlider(min=0.0, max=1.0, step=0.01, value=0.2, description='steering gain')\n",
        "steering_dgain_slider = ipywidgets.FloatSlider(min=0.0, max=0.5, step=0.001, value=0.0, description='steering kd')\n",
        "steering_bias_slider = ipywidgets.FloatSlider(min=-0.3, max=0.3, step=0.01, value=0.0, description='steering bias')\n",
        "\n",
        "display(speed_gain_slider, steering_gain_slider, steering_dgain_slider, steering_bias_slider)"
      ]
    },
    {
      "cell_type": "markdown",
      "metadata": {
        "id": "yRKH6UNEOry8"
      },
      "source": [
        "Next, let's display some sliders that will let us see what JetBot is thinking.  The x and y sliders will display the predicted x, y values.\n",
        "\n",
        "The steering slider will display our estimated steering value.  Please remember, this value isn't the actual angle of the target, but simply a value that is\n",
        "nearly proportional.  When the actual angle is ``0``, this will be zero, and it will increase / decrease with the actual angle.  "
      ]
    },
    {
      "cell_type": "code",
      "metadata": {
        "colab": {
          "referenced_widgets": [
            "087b5fdfc7b8407286aa9fdd35a7f7a2",
            "b08ab2fa1ac04757b4680af5418303fc",
            "d30223ff4eaf407b8f02ce740438cbee",
            "65fc9d8fd7974b7e9c1c5a333cda755b",
            "c2f0956589964f71bff89d9f820d3e1d",
            "5e67e3b04c674d1c9422ca523ec1845f",
            "64f541ec0685465b8410880dd0437586"
          ]
        },
        "id": "1fccz0kkOry8",
        "outputId": "dcc0f1f7-115b-416f-a52f-ccbe3e64021c"
      },
      "source": [
        "\n",
        "speed_gain_slider = ipywidgets.FloatSlider(min=0.0, max=1.0, step=0.01, description='speed gain')\n",
        "steering_gain_slider = ipywidgets.FloatSlider(min=0.0, max=1.0, step=0.01, value=0.05, description='steering gain')\n",
        "steering_dgain_slider = ipywidgets.FloatSlider(min=0.0, max=0.5, step=0.001, value=0.0, description='steering kd')\n",
        "steering_bias_slider = ipywidgets.FloatSlider(min=-0.3, max=0.3, step=0.01, value=0.0, description='steering bias')\n",
        "\"\"\"\n",
        "speed_gain_slider = ipywidgets.FloatSlider(min=0.25, max=1.0, step=0.01, description='speed gain')\n",
        "steering_gain_slider = ipywidgets.FloatSlider(min=0.0, max=1.0, step=0.01, value=0.2, description='steering gain')\n",
        "steering_dgain_slider = ipywidgets.FloatSlider(min=0.0, max=0.5, step=0.001, value=0.0, description='steering kd')\n",
        "steering_bias_slider = ipywidgets.FloatSlider(min=-0.3, max=0.3, step=0.01, value=0.0, description='steering bias')\n",
        "\"\"\"\n",
        "display(speed_gain_slider, steering_gain_slider, steering_dgain_slider, steering_bias_slider)\n",
        "\n",
        "x_slider = ipywidgets.FloatSlider(min=-1.0, max=1.0, description='x')\n",
        "y_slider = ipywidgets.FloatSlider(min=0, max=1.0, orientation='vertical', description='y')\n",
        "steering_slider = ipywidgets.FloatSlider(min=-1.0, max=1.0, description='steering')\n",
        "speed_slider = ipywidgets.FloatSlider(min=0, max=1.0, orientation='vertical', description='speed')\n",
        "\n",
        "display(ipywidgets.HBox([y_slider, speed_slider]))\n",
        "display(x_slider, steering_slider)"
      ],
      "execution_count": null,
      "outputs": [
        {
          "output_type": "display_data",
          "data": {
            "application/vnd.jupyter.widget-view+json": {
              "model_id": "087b5fdfc7b8407286aa9fdd35a7f7a2",
              "version_major": 2,
              "version_minor": 0
            },
            "text/plain": [
              "FloatSlider(value=0.0, description='speed gain', max=1.0, step=0.01)"
            ]
          },
          "metadata": {
            "tags": []
          }
        },
        {
          "output_type": "display_data",
          "data": {
            "application/vnd.jupyter.widget-view+json": {
              "model_id": "b08ab2fa1ac04757b4680af5418303fc",
              "version_major": 2,
              "version_minor": 0
            },
            "text/plain": [
              "FloatSlider(value=0.05, description='steering gain', max=1.0, step=0.01)"
            ]
          },
          "metadata": {
            "tags": []
          }
        },
        {
          "output_type": "display_data",
          "data": {
            "application/vnd.jupyter.widget-view+json": {
              "model_id": "d30223ff4eaf407b8f02ce740438cbee",
              "version_major": 2,
              "version_minor": 0
            },
            "text/plain": [
              "FloatSlider(value=0.0, description='steering kd', max=0.5, step=0.001)"
            ]
          },
          "metadata": {
            "tags": []
          }
        },
        {
          "output_type": "display_data",
          "data": {
            "application/vnd.jupyter.widget-view+json": {
              "model_id": "65fc9d8fd7974b7e9c1c5a333cda755b",
              "version_major": 2,
              "version_minor": 0
            },
            "text/plain": [
              "FloatSlider(value=0.0, description='steering bias', max=0.3, min=-0.3, step=0.01)"
            ]
          },
          "metadata": {
            "tags": []
          }
        },
        {
          "output_type": "display_data",
          "data": {
            "application/vnd.jupyter.widget-view+json": {
              "model_id": "c2f0956589964f71bff89d9f820d3e1d",
              "version_major": 2,
              "version_minor": 0
            },
            "text/plain": [
              "HBox(children=(FloatSlider(value=0.0, description='y', max=1.0, orientation='vertical'), FloatSlider(value=0.0…"
            ]
          },
          "metadata": {
            "tags": []
          }
        },
        {
          "output_type": "display_data",
          "data": {
            "application/vnd.jupyter.widget-view+json": {
              "model_id": "5e67e3b04c674d1c9422ca523ec1845f",
              "version_major": 2,
              "version_minor": 0
            },
            "text/plain": [
              "FloatSlider(value=0.0, description='x', max=1.0, min=-1.0)"
            ]
          },
          "metadata": {
            "tags": []
          }
        },
        {
          "output_type": "display_data",
          "data": {
            "application/vnd.jupyter.widget-view+json": {
              "model_id": "64f541ec0685465b8410880dd0437586",
              "version_major": 2,
              "version_minor": 0
            },
            "text/plain": [
              "FloatSlider(value=0.0, description='steering', max=1.0, min=-1.0)"
            ]
          },
          "metadata": {
            "tags": []
          }
        }
      ]
    },
    {
      "cell_type": "markdown",
      "metadata": {
        "id": "SW0vyZAEOry9"
      },
      "source": [
        "Next, we'll create a function that will get called whenever the camera's value changes. This function will do the following steps\n",
        "\n",
        "1. Pre-process the camera image\n",
        "2. Execute the neural network\n",
        "3. Compute the approximate steering value\n",
        "4. Control the motors using proportional / derivative control (PD)"
      ]
    },
    {
      "cell_type": "code",
      "metadata": {
        "id": "28MQyRxWOry-",
        "outputId": "b7876c59-8835-4c3b-da89-f4d8b783fd1a"
      },
      "source": [
        "\n",
        "angle = 0.0\n",
        "angle_last = 0.0\n",
        "\n",
        "def execute(change):\n",
        "    global angle, angle_last\n",
        "    image = change['new']\n",
        "    xy = model(preprocess(image)).detach().float().cpu().numpy().flatten()\n",
        "    x = xy[0]\n",
        "    y = (0.5 - xy[1]) / 2.0\n",
        "    \n",
        "    x_slider.value = x\n",
        "    y_slider.value = y\n",
        "    \n",
        "    speed_slider.value = speed_gain_slider.value\n",
        "    \n",
        "    angle = np.arctan2(x, y)\n",
        "    pid = angle * steering_gain_slider.value + (angle - angle_last) * steering_dgain_slider.value\n",
        "    angle_last = angle\n",
        "    \n",
        "    steering_slider.value = pid + steering_bias_slider.value\n",
        "    \n",
        "    if steering_slider.value > 2.0) or steering_slider.value < -2.0:\n",
        "      robot.left_motor.value = max(min(speed_slider.value + steering_slider.value , 1.0)* 0.95, 0.0)\n",
        "      robot.right_motor.value = max(min(speed_slider.value - steering_slider.value, 1.0)* 0.95, 0.0)\n",
        "    else:  \n",
        "      robot.left_motor.value = max(min(speed_slider.value + steering_slider.value , 1.0)* 0.5, 0.0)\n",
        "      robot.right_motor.value = max(min(speed_slider.value - steering_slider.value, 1.0)* 0.5, 0.0)\n",
        "    \n",
        "execute({'new': camera.value})\n",
        "# robot.left_motor.value = max(min(speed_slider.value + steering_slider.value, 1.0), 0.0)\n",
        "\n",
        "\n",
        "\"\"\"\n",
        "\n",
        "angle = 0.0\n",
        "angle_last = 0.0\n",
        "count_motor = 0\n",
        "def execute(change):\n",
        "    global angle, angle_last, count_motor\n",
        "    image = change['new']\n",
        "    xy = model(preprocess(image)).detach().float().cpu().numpy().flatten()\n",
        "    x = xy[0]\n",
        "    y = (0.5 - xy[1]) / 2.0\n",
        "    \n",
        "    x_slider.value = x\n",
        "    y_slider.value = y\n",
        "    \n",
        "    speed_slider.value = speed_gain_slider.value\n",
        "    \n",
        "    angle = np.arctan2(x, y)\n",
        "    pid = angle * steering_gain_slider.value + (angle - angle_last) * steering_dgain_slider.value\n",
        "    angle_last = angle\n",
        "    \n",
        "    steering_slider.value = pid + steering_bias_slider.value\n",
        "   \n",
        "    if count_motor >1:\n",
        "        robot.left_motor.value = max(min(speed_slider.value + steering_slider.value, 1.0)*0.95, 0.0)\n",
        "        robot.right_motor.value = max(min(speed_slider.value - steering_slider.value, 1.0), 0.0)\n",
        "        count_motor = 0\n",
        "    else :\n",
        "        robot.left_motor.value = 0\n",
        "        robot.right_motor.value = 0\n",
        "        count_motor = count_motor + 1\n",
        "\n",
        "        \n",
        "execute({'new': camera.value})\n",
        "\"\"\""
      ],
      "execution_count": null,
      "outputs": [
        {
          "output_type": "execute_result",
          "data": {
            "text/plain": [
              "\"\\n\\nangle = 0.0\\nangle_last = 0.0\\ncount_motor = 0\\ndef execute(change):\\n    global angle, angle_last, count_motor\\n    image = change['new']\\n    xy = model(preprocess(image)).detach().float().cpu().numpy().flatten()\\n    x = xy[0]\\n    y = (0.5 - xy[1]) / 2.0\\n    \\n    x_slider.value = x\\n    y_slider.value = y\\n    \\n    speed_slider.value = speed_gain_slider.value\\n    \\n    angle = np.arctan2(x, y)\\n    pid = angle * steering_gain_slider.value + (angle - angle_last) * steering_dgain_slider.value\\n    angle_last = angle\\n    \\n    steering_slider.value = pid + steering_bias_slider.value\\n   \\n    if count_motor >1:\\n        robot.left_motor.value = max(min(speed_slider.value + steering_slider.value, 1.0)*0.95, 0.0)\\n        robot.right_motor.value = max(min(speed_slider.value - steering_slider.value, 1.0), 0.0)\\n        count_motor = 0\\n    else :\\n        robot.left_motor.value = 0\\n        robot.right_motor.value = 0\\n        count_motor = count_motor + 1\\n\\n        \\nexecute({'new': camera.value})\\n\""
            ]
          },
          "metadata": {
            "tags": []
          },
          "execution_count": 10
        }
      ]
    },
    {
      "cell_type": "markdown",
      "metadata": {
        "id": "cDnQ-FRYOry_"
      },
      "source": [
        "Cool! We've created our neural network execution function, but now we need to attach it to the camera for processing.\n",
        "\n",
        "We accomplish that with the observe function."
      ]
    },
    {
      "cell_type": "markdown",
      "metadata": {
        "id": "ac6ybi5qOrzA"
      },
      "source": [
        ">WARNING: This code will move the robot!! Please make sure your robot has clearance and it is on Lego or Track you have collected data on. The road follower should work, but the neural network is only as good as the data it's trained on!"
      ]
    },
    {
      "cell_type": "code",
      "metadata": {
        "id": "eSb9lMWnOrzB"
      },
      "source": [
        "camera.observe(execute, names='value')"
      ],
      "execution_count": null,
      "outputs": []
    },
    {
      "cell_type": "markdown",
      "metadata": {
        "id": "BQVeG0WaOrzB"
      },
      "source": [
        "Awesome! If your robot is plugged in it should now be generating new commands with each new camera frame. \n",
        "\n",
        "You can now place JetBot on  Lego or Track you have collected data on and see whether it can follow track.\n",
        "\n",
        "If you want to stop this behavior, you can unattach this callback by executing the code below."
      ]
    },
    {
      "cell_type": "code",
      "metadata": {
        "id": "g9wbzJpiOrzC",
        "outputId": "59cdd0d8-b639-494e-a79b-110a85fa9a6a"
      },
      "source": [
        "import time\n",
        "\n",
        "camera.unobserve(execute, names='value')\n",
        "\n",
        "time.sleep(0.1)  # add a small sleep to make sure frames have finished processing\n",
        "\n",
        "robot.stop()\n",
        "camera.stop()"
      ],
      "execution_count": null,
      "outputs": [
        {
          "output_type": "error",
          "ename": "ValueError",
          "evalue": "list.remove(x): x not in list",
          "traceback": [
            "\u001b[0;31m---------------------------------------------------------------------------\u001b[0m",
            "\u001b[0;31mValueError\u001b[0m                                Traceback (most recent call last)",
            "\u001b[0;32m<ipython-input-26-d6a09a067342>\u001b[0m in \u001b[0;36m<module>\u001b[0;34m\u001b[0m\n\u001b[1;32m      1\u001b[0m \u001b[0;32mimport\u001b[0m \u001b[0mtime\u001b[0m\u001b[0;34m\u001b[0m\u001b[0;34m\u001b[0m\u001b[0m\n\u001b[1;32m      2\u001b[0m \u001b[0;34m\u001b[0m\u001b[0m\n\u001b[0;32m----> 3\u001b[0;31m \u001b[0mcamera\u001b[0m\u001b[0;34m.\u001b[0m\u001b[0munobserve\u001b[0m\u001b[0;34m(\u001b[0m\u001b[0mexecute\u001b[0m\u001b[0;34m,\u001b[0m \u001b[0mnames\u001b[0m\u001b[0;34m=\u001b[0m\u001b[0;34m'value'\u001b[0m\u001b[0;34m)\u001b[0m\u001b[0;34m\u001b[0m\u001b[0;34m\u001b[0m\u001b[0m\n\u001b[0m\u001b[1;32m      4\u001b[0m \u001b[0;34m\u001b[0m\u001b[0m\n\u001b[1;32m      5\u001b[0m \u001b[0mtime\u001b[0m\u001b[0;34m.\u001b[0m\u001b[0msleep\u001b[0m\u001b[0;34m(\u001b[0m\u001b[0;36m0.1\u001b[0m\u001b[0;34m)\u001b[0m  \u001b[0;31m# add a small sleep to make sure frames have finished processing\u001b[0m\u001b[0;34m\u001b[0m\u001b[0;34m\u001b[0m\u001b[0m\n",
            "\u001b[0;32m/usr/local/lib/python3.6/dist-packages/traitlets/traitlets.py\u001b[0m in \u001b[0;36munobserve\u001b[0;34m(self, handler, names, type)\u001b[0m\n\u001b[1;32m   1360\u001b[0m         \u001b[0mnames\u001b[0m \u001b[0;34m=\u001b[0m \u001b[0mparse_notifier_name\u001b[0m\u001b[0;34m(\u001b[0m\u001b[0mnames\u001b[0m\u001b[0;34m)\u001b[0m\u001b[0;34m\u001b[0m\u001b[0;34m\u001b[0m\u001b[0m\n\u001b[1;32m   1361\u001b[0m         \u001b[0;32mfor\u001b[0m \u001b[0mn\u001b[0m \u001b[0;32min\u001b[0m \u001b[0mnames\u001b[0m\u001b[0;34m:\u001b[0m\u001b[0;34m\u001b[0m\u001b[0;34m\u001b[0m\u001b[0m\n\u001b[0;32m-> 1362\u001b[0;31m             \u001b[0mself\u001b[0m\u001b[0;34m.\u001b[0m\u001b[0m_remove_notifiers\u001b[0m\u001b[0;34m(\u001b[0m\u001b[0mhandler\u001b[0m\u001b[0;34m,\u001b[0m \u001b[0mn\u001b[0m\u001b[0;34m,\u001b[0m \u001b[0mtype\u001b[0m\u001b[0;34m)\u001b[0m\u001b[0;34m\u001b[0m\u001b[0;34m\u001b[0m\u001b[0m\n\u001b[0m\u001b[1;32m   1363\u001b[0m \u001b[0;34m\u001b[0m\u001b[0m\n\u001b[1;32m   1364\u001b[0m     \u001b[0;32mdef\u001b[0m \u001b[0munobserve_all\u001b[0m\u001b[0;34m(\u001b[0m\u001b[0mself\u001b[0m\u001b[0;34m,\u001b[0m \u001b[0mname\u001b[0m\u001b[0;34m=\u001b[0m\u001b[0mAll\u001b[0m\u001b[0;34m)\u001b[0m\u001b[0;34m:\u001b[0m\u001b[0;34m\u001b[0m\u001b[0;34m\u001b[0m\u001b[0m\n",
            "\u001b[0;32m/usr/local/lib/python3.6/dist-packages/traitlets/traitlets.py\u001b[0m in \u001b[0;36m_remove_notifiers\u001b[0;34m(self, handler, name, type)\u001b[0m\n\u001b[1;32m   1270\u001b[0m                 \u001b[0;32mdel\u001b[0m \u001b[0mself\u001b[0m\u001b[0;34m.\u001b[0m\u001b[0m_trait_notifiers\u001b[0m\u001b[0;34m[\u001b[0m\u001b[0mname\u001b[0m\u001b[0;34m]\u001b[0m\u001b[0;34m[\u001b[0m\u001b[0mtype\u001b[0m\u001b[0;34m]\u001b[0m\u001b[0;34m\u001b[0m\u001b[0;34m\u001b[0m\u001b[0m\n\u001b[1;32m   1271\u001b[0m             \u001b[0;32melse\u001b[0m\u001b[0;34m:\u001b[0m\u001b[0;34m\u001b[0m\u001b[0;34m\u001b[0m\u001b[0m\n\u001b[0;32m-> 1272\u001b[0;31m                 \u001b[0mself\u001b[0m\u001b[0;34m.\u001b[0m\u001b[0m_trait_notifiers\u001b[0m\u001b[0;34m[\u001b[0m\u001b[0mname\u001b[0m\u001b[0;34m]\u001b[0m\u001b[0;34m[\u001b[0m\u001b[0mtype\u001b[0m\u001b[0;34m]\u001b[0m\u001b[0;34m.\u001b[0m\u001b[0mremove\u001b[0m\u001b[0;34m(\u001b[0m\u001b[0mhandler\u001b[0m\u001b[0;34m)\u001b[0m\u001b[0;34m\u001b[0m\u001b[0;34m\u001b[0m\u001b[0m\n\u001b[0m\u001b[1;32m   1273\u001b[0m         \u001b[0;32mexcept\u001b[0m \u001b[0mKeyError\u001b[0m\u001b[0;34m:\u001b[0m\u001b[0;34m\u001b[0m\u001b[0;34m\u001b[0m\u001b[0m\n\u001b[1;32m   1274\u001b[0m             \u001b[0;32mpass\u001b[0m\u001b[0;34m\u001b[0m\u001b[0;34m\u001b[0m\u001b[0m\n",
            "\u001b[0;31mValueError\u001b[0m: list.remove(x): x not in list"
          ]
        }
      ]
    },
    {
      "cell_type": "markdown",
      "metadata": {
        "id": "itzAE8xLOrzC"
      },
      "source": [
        "### Conclusion\n",
        "That's it for this live demo! Hopefully you had some fun seeing your JetBot moving smoothly on track follwing the road!!!\n",
        "\n",
        "If your JetBot wasn't following road very well, try to spot where it fails. The beauty is that we can collect more data for these failure scenarios and the JetBot should get even better :)"
      ]
    }
  ]
}